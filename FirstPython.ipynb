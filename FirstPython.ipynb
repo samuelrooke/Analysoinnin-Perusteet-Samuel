{
 "cells": [
  {
   "cell_type": "code",
   "execution_count": 10,
   "metadata": {},
   "outputs": [
    {
     "name": "stdout",
     "output_type": "stream",
     "text": [
      "Printer App\n",
      "This app is made by: Samuel\n",
      "The value of number1 is 5\n",
      "The value of number2 is 2\n",
      "5 * 2 = 10\n",
      "5 + 2 = 7\n",
      "5 / 2 = 2.5\n",
      "5 - 2 = 3\n"
     ]
    }
   ],
   "source": [
    "\n",
    "creator = \"Samuel\" \n",
    "number1 = 5\n",
    "number2 = 2\n",
    "\n",
    "print(\"Printer App\")\n",
    "print(\"This app is made by:\", creator)\n",
    "\n",
    "print(\"The value of number1 is\", number1)\n",
    "print(\"The value of number2 is\", number2)\n",
    "\n",
    "multiplication = number1 * number2\n",
    "print(f\"{number1} * {number2} = {multiplication}\")\n",
    "\n",
    "addition = number1 + number2\n",
    "print(f\"{number1} + {number2} = {addition}\")\n",
    "\n",
    "division = float(number1) / float(number2)\n",
    "print(f\"{number1} / {number2} = {division}\")\n",
    "\n",
    "subtraction = number1 - number2\n",
    "print(f\"{number1} - {number2} = {subtraction}\")\n"
   ]
  }
 ],
 "metadata": {
  "kernelspec": {
   "display_name": "Python 3",
   "language": "python",
   "name": "python3"
  },
  "language_info": {
   "codemirror_mode": {
    "name": "ipython",
    "version": 3
   },
   "file_extension": ".py",
   "mimetype": "text/x-python",
   "name": "python",
   "nbconvert_exporter": "python",
   "pygments_lexer": "ipython3",
   "version": "3.13.0"
  }
 },
 "nbformat": 4,
 "nbformat_minor": 2
}
